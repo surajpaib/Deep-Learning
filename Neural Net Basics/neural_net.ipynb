{
 "cells": [
  {
   "cell_type": "code",
   "execution_count": 1,
   "metadata": {
    "collapsed": true
   },
   "outputs": [],
   "source": [
    "import numpy as np\n",
    "import matplotlib.pyplot as plt"
   ]
  },
  {
   "cell_type": "code",
   "execution_count": 2,
   "metadata": {},
   "outputs": [],
   "source": [
    "x = np.array([[0, 0, 1],\n",
    "             [0, 1, 1],\n",
    "             [1, 0, 1],\n",
    "             [1, 1, 1]])\n",
    "\n",
    "y = np.array([[0], [1], [1], [0]])"
   ]
  },
  {
   "cell_type": "code",
   "execution_count": 3,
   "metadata": {},
   "outputs": [
    {
     "name": "stdout",
     "output_type": "stream",
     "text": [
      "[[0 0 1]\n [0 1 1]\n [1 0 1]\n [1 1 1]]\n[[0]\n [1]\n [1]\n [0]]\n"
     ]
    }
   ],
   "source": [
    "print(x)\n",
    "print(y)"
   ]
  },
  {
   "cell_type": "code",
   "execution_count": 4,
   "metadata": {},
   "outputs": [],
   "source": [
    "# Model definition\n",
    "\n",
    "num_epochs = 100000\n",
    "\n",
    "\n",
    "# 5 neurons in the hidden layer\n",
    "syn0 = 2 * np.random.random((3, 5)) - 1\n",
    "syn1 = 2 * np.random.random((5, 1)) - 1"
   ]
  },
  {
   "cell_type": "code",
   "execution_count": 5,
   "metadata": {},
   "outputs": [
    {
     "name": "stdout",
     "output_type": "stream",
     "text": [
      "[[ 0.82972405 -0.99059598  0.53640745 -0.01229599  0.77451619]\n [-0.98282029  0.5313527   0.21847215 -0.88951974  0.27265478]\n [ 0.51283914 -0.69542129  0.45660586 -0.83166454  0.29678542]]\n"
     ]
    }
   ],
   "source": [
    "print(syn0)"
   ]
  },
  {
   "cell_type": "code",
   "execution_count": 6,
   "metadata": {},
   "outputs": [
    {
     "name": "stdout",
     "output_type": "stream",
     "text": [
      "[[-0.77682469]\n [-0.83469832]\n [ 0.00654045]\n [-0.0571798 ]\n [ 0.16419268]]\n"
     ]
    }
   ],
   "source": [
    "print(syn1)"
   ]
  },
  {
   "cell_type": "code",
   "execution_count": 7,
   "metadata": {},
   "outputs": [
    {
     "data": {
      "image/png": "[encoded data removed]",
      "text/plain": [
       "<matplotlib.figure.Figure at 0x7f9ea934e9d0>"
      ]
     },
     "metadata": {},
     "output_type": "display_data"
    }
   ],
   "source": [
    "# Sigmoid function to bound values between 0 and 1 at the output of each neuron\n",
    "def sigmoid(x, deriv = False):\n",
    "    if deriv:\n",
    "        return x * (1 - x)\n",
    "        \n",
    "    x = 1 / (1 + np.exp(-x))\n",
    "\n",
    "    return x\n",
    "\n",
    "x_axis = range(-100, 100)\n",
    "y_axis = []\n",
    "for value in x_axis:\n",
    "    y = sigmoid(value)\n",
    "    y_axis.append(y)\n",
    "\n",
    "plt.plot(x_axis, y_axis)\n",
    "plt.show()"
   ]
  },
  {
   "cell_type": "code",
   "execution_count": 8,
   "metadata": {},
   "outputs": [],
   "source": [
    "# Train Function\n",
    "def train(x, y, syn0, syn1, num_epochs):\n",
    "    accumulated_errors = []\n",
    "    for epoch in range(num_epochs):\n",
    "        l0 = x\n",
    "        l1 = sigmoid(np.dot(l0, syn0))\n",
    "        l2 = sigmoid(np.dot(l1, syn1))\n",
    "        \n",
    "        #  Error at the output layer\n",
    "        l2_error = y - l2\n",
    "        \n",
    "        # Derivative of the error for Gradient Descent\n",
    "        l2_derivative = l2_error * sigmoid(l2, deriv=True)\n",
    "        \n",
    "        # Contribution of l2 to l1\n",
    "        l1_error = l2_derivative.dot(syn1.T)\n",
    "        \n",
    "        training_error = np.mean(abs(l2_error))\n",
    "        accumulated_errors.append(training_error)\n",
    "        \n",
    "        if epoch % 1000 == 0:\n",
    "            print(\" Training .....  \\t Error : {0}\".format(training_error))\n",
    "        \n",
    "        # Derivative for gradient descent \n",
    "        l1_derivative = l1_error * sigmoid(l1, deriv=True)\n",
    "        \n",
    "        # Update the weights \n",
    "        syn1 += np.dot(l1.T, l2_derivative)\n",
    "        syn0 += np.dot(l0.T, l1_derivative)\n",
    "    print(\"Error: {0}\".format(training_error))\n",
    "    return accumulated_errors"
   ]
  },
  {
   "cell_type": "code",
   "execution_count": 9,
   "metadata": {},
   "outputs": [
    {
     "name": "stdout",
     "output_type": "stream",
     "text": [
      " Training .....  \t Error : 0.64735817221\n Training .....  \t Error : 0.00749030275861\n Training .....  \t Error : 0.0051646963561\n Training .....  \t Error : 0.00416118071978\n Training .....  \t Error : 0.00357175666401\n Training .....  \t Error : 0.00317359754301\n Training .....  \t Error : 0.00288195051041\n Training .....  \t Error : 0.00265667937845\n"
     ]
    },
    {
     "name": "stdout",
     "output_type": "stream",
     "text": [
      " Training .....  \t Error : 0.00247602288152\n Training .....  \t Error : 0.00232703532179\n Training .....  \t Error : 0.00220147435107\n Training .....  \t Error : 0.00209381229782\n Training .....  \t Error : 0.00200018650644\n Training .....  \t Error : 0.00191780623917\n Training .....  \t Error : 0.00184459871302\n Training .....  \t Error : 0.00177898814309\n"
     ]
    },
    {
     "name": "stdout",
     "output_type": "stream",
     "text": [
      " Training .....  \t Error : 0.00171975252537\n Training .....  \t Error : 0.00166592779111\n Training .....  \t Error : 0.00161674187342\n Training .....  \t Error : 0.00157156825077\n Training .....  \t Error : 0.00152989251777\n Training .....  \t Error : 0.00149128787725\n Training .....  \t Error : 0.00145539687175\n Training .....  \t Error : 0.00142191756103\n"
     ]
    },
    {
     "name": "stdout",
     "output_type": "stream",
     "text": [
      " Training .....  \t Error : 0.00139059292178\n Training .....  \t Error : 0.00136120261835\n Training .....  \t Error : 0.00133355654257\n Training .....  \t Error : 0.00130748969042\n Training .....  \t Error : 0.00128285806059\n Training .....  \t Error : 0.00125953534264\n Training .....  \t Error : 0.00123741022126\n Training .....  \t Error : 0.00121638416575\n"
     ]
    },
    {
     "name": "stdout",
     "output_type": "stream",
     "text": [
      " Training .....  \t Error : 0.00119636960478\n Training .....  \t Error : 0.00117728840955\n Training .....  \t Error : 0.00115907062572\n Training .....  \t Error : 0.00114165340717\n Training .....  \t Error : 0.00112498011492\n Training .....  \t Error : 0.00110899955157\n Training .....  \t Error : 0.00109366530811\n Training .....  \t Error : 0.00107893520385\n Training .....  \t Error : 0.00106477080441\n"
     ]
    },
    {
     "name": "stdout",
     "output_type": "stream",
     "text": [
      " Training .....  \t Error : 0.00105113700509\n Training .....  \t Error : 0.00103800166952\n Training .....  \t Error : 0.00102533531497\n Training .....  \t Error : 0.00101311083754\n Training .....  \t Error : 0.00100130327129\n Training .....  \t Error : 0.000989889576523\n Training .....  \t Error : 0.000978848453053\n Training .....  \t Error : 0.000968160175185\n Training .....  \t Error : 0.000957806445371\n"
     ]
    },
    {
     "name": "stdout",
     "output_type": "stream",
     "text": [
      " Training .....  \t Error : 0.000947770264155\n Training .....  \t Error : 0.000938035814291\n Training .....  \t Error : 0.000928588357247\n Training .....  \t Error : 0.00091941414056\n Training .....  \t Error : 0.000910500314726\n Training .....  \t Error : 0.000901834858489\n Training .....  \t Error : 0.000893406511536\n Training .....  \t Error : 0.000885204713758\n"
     ]
    },
    {
     "name": "stdout",
     "output_type": "stream",
     "text": [
      " Training .....  \t Error : 0.000877219550323\n Training .....  \t Error : 0.000869441701925\n Training .....  \t Error : 0.000861862399635\n Training .....  \t Error : 0.000854473383859\n Training .....  \t Error : 0.000847266866984\n Training .....  \t Error : 0.000840235499298\n Training .....  \t Error : 0.000833372337886\n Training .....  \t Error : 0.000826670818165\n"
     ]
    },
    {
     "name": "stdout",
     "output_type": "stream",
     "text": [
      " Training .....  \t Error : 0.000820124727827\n Training .....  \t Error : 0.000813728182934\n Training .....  \t Error : 0.000807475605964\n Training .....  \t Error : 0.000801361705627\n Training .....  \t Error : 0.000795381458274\n Training .....  \t Error : 0.00078953009077\n Training .....  \t Error : 0.000783803064676\n Training .....  \t Error : 0.000778196061641\n"
     ]
    },
    {
     "name": "stdout",
     "output_type": "stream",
     "text": [
      " Training .....  \t Error : 0.000772704969885\n Training .....  \t Error : 0.000767325871685\n Training .....  \t Error : 0.000762055031771\n Training .....  \t Error : 0.000756888886561\n Training .....  \t Error : 0.000751824034162\n Training .....  \t Error : 0.000746857225069\n Training .....  \t Error : 0.000741985353513\n Training .....  \t Error : 0.000737205449402\n"
     ]
    },
    {
     "name": "stdout",
     "output_type": "stream",
     "text": [
      " Training .....  \t Error : 0.000732514670801\n Training .....  \t Error : 0.000727910296922\n Training .....  \t Error : 0.000723389721572\n Training .....  \t Error : 0.000718950447032\n Training .....  \t Error : 0.000714590078324\n Training .....  \t Error : 0.000710306317853\n Training .....  \t Error : 0.000706096960379\n"
     ]
    },
    {
     "name": "stdout",
     "output_type": "stream",
     "text": [
      " Training .....  \t Error : 0.000701959888305\n Training .....  \t Error : 0.000697893067256\n Training .....  \t Error : 0.000693894541927\n Training .....  \t Error : 0.000689962432177\n Training .....  \t Error : 0.000686094929365\n Training .....  \t Error : 0.000682290292892\n Training .....  \t Error : 0.000678546846952\n Training .....  \t Error : 0.000674862977467\n"
     ]
    },
    {
     "name": "stdout",
     "output_type": "stream",
     "text": [
      " Training .....  \t Error : 0.000671237129199\n Training .....  \t Error : 0.000667667803023\n Training .....  \t Error : 0.000664153553356\nError: 0.000660696419929\n"
     ]
    }
   ],
   "source": [
    "errors = train(x, y, syn0, syn1, num_epochs)"
   ]
  },
  {
   "cell_type": "code",
   "execution_count": 10,
   "metadata": {},
   "outputs": [],
   "source": [
    "def plot_learning_curve(errors, num_epochs):\n",
    "    plt.plot(range(num_epochs), errors)\n",
    "    plt.xlabel(' Number of Iterations')\n",
    "    plt.ylabel( ' Training error')\n",
    "    plt.title(' Training Curve')\n",
    "    plt.show()"
   ]
  },
  {
   "cell_type": "code",
   "execution_count": 11,
   "metadata": {},
   "outputs": [
    {
     "data": {
      "image/png": "[encoded data removed]",
      "text/plain": [
       "<matplotlib.figure.Figure at 0x7f9ea72ac590>"
      ]
     },
     "metadata": {},
     "output_type": "display_data"
    }
   ],
   "source": [
    "plot_learning_curve(errors, num_epochs)"
   ]
  },
  {
   "cell_type": "code",
   "execution_count": null,
   "metadata": {},
   "outputs": [],
   "source": [
    ""
   ]
  }
 ],
 "metadata": {
  "kernelspec": {
   "display_name": "Python 2",
   "language": "python",
   "name": "python2"
  },
  "language_info": {
   "codemirror_mode": {
    "name": "ipython",
    "version": 2.0
   },
   "file_extension": ".py",
   "mimetype": "text/x-python",
   "name": "python",
   "nbconvert_exporter": "python",
   "pygments_lexer": "ipython2",
   "version": "2.7.6"
  }
 },
 "nbformat": 4,
 "nbformat_minor": 0
}