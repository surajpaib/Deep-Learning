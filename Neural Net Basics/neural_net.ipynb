{
 "cells": [
  {
   "cell_type": "code",
   "execution_count": 27,
   "metadata": {
    "collapsed": true
   },
   "outputs": [],
   "source": [
    "import numpy as np\n",
    "import matplotlib.pyplot as plt"
   ]
  },
  {
   "cell_type": "code",
   "execution_count": 2,
   "metadata": {},
   "outputs": [],
   "source": [
    "x = np.array([[0, 0, 1],\n",
    "             [0, 1, 1],\n",
    "             [1, 0, 1],\n",
    "             [1, 1, 1]])\n",
    "\n",
    "y = np.array([[0], [1], [1], [0]])"
   ]
  },
  {
   "cell_type": "code",
   "execution_count": 3,
   "metadata": {},
   "outputs": [
    {
     "name": "stdout",
     "output_type": "stream",
     "text": [
      "[[0 0 1]\n [0 1 1]\n [1 0 1]\n [1 1 1]]\n[[0]\n [1]\n [1]\n [0]]\n"
     ]
    }
   ],
   "source": [
    "print(x)\n",
    "print(y)"
   ]
  },
  {
   "cell_type": "code",
   "execution_count": 93,
   "metadata": {},
   "outputs": [],
   "source": [
    "# Model definition\n",
    "\n",
    "num_epochs = 100000\n",
    "\n",
    "\n",
    "# 5 neurons in the hidden layer\n",
    "syn0 = 2 * np.random.random((3, 5)) - 1\n",
    "syn1 = 2 * np.random.random((5, 1)) - 1"
   ]
  },
  {
   "cell_type": "code",
   "execution_count": 5,
   "metadata": {},
   "outputs": [
    {
     "name": "stdout",
     "output_type": "stream",
     "text": [
      "[[-0.80554907 -0.48184687 -0.16124009 -0.79601376  0.93315435]\n [ 0.60482338  0.40575121  0.50729765 -0.35305451  0.22876282]\n [-0.46908305  0.56796475 -0.96940412 -0.92742003  0.01117627]]\n"
     ]
    }
   ],
   "source": [
    "print(syn0)"
   ]
  },
  {
   "cell_type": "code",
   "execution_count": 6,
   "metadata": {},
   "outputs": [
    {
     "name": "stdout",
     "output_type": "stream",
     "text": [
      "[[ 0.01719185]\n [-0.45442365]\n [-0.79347534]\n [-0.39750967]\n [ 0.03009025]]\n"
     ]
    }
   ],
   "source": [
    "print(syn1)"
   ]
  },
  {
   "cell_type": "code",
   "execution_count": null,
   "metadata": {},
   "outputs": [],
   "source": [
    "# Sigmoid function to bound values between 0 and 1 at the output of each neuron\n",
    "def sigmoid(x, deriv = False):\n",
    "    if deriv:\n",
    "        return x * (1 - x)\n",
    "        \n",
    "    x = 1 / (1 + np.exp(-x))\n",
    "\n",
    "    return x\n",
    "\n",
    "x_axis = range(-100, 100)\n",
    "y_axis = []\n",
    "for value in x_axis:\n",
    "    y = sigmoid(value)\n",
    "    y_axis.append(y)\n",
    "\n",
    "plt.plot(x_axis, y_axis)\n",
    "plt.show()"
   ]
  },
  {
   "cell_type": "code",
   "execution_count": 84,
   "metadata": {},
   "outputs": [],
   "source": [
    "# Train Function\n",
    "def train(x, y, syn0, syn1, num_epochs):\n",
    "    accumulated_errors = []\n",
    "    for epoch in range(num_epochs):\n",
    "        l0 = x\n",
    "        l1 = sigmoid(np.dot(l0, syn0))\n",
    "        l2 = sigmoid(np.dot(l1, syn1))\n",
    "        \n",
    "        #  Error at the output layer\n",
    "        l2_error = y - l2\n",
    "        \n",
    "        # Derivative of the error for Gradient Descent\n",
    "        l2_derivative = l2_error * sigmoid(l2, deriv=True)\n",
    "        \n",
    "        # Contribution of l2 to l1\n",
    "        l1_error = l2_derivative.dot(syn1.T)\n",
    "        \n",
    "        training_error = np.mean(abs(l2_error))\n",
    "        accumulated_errors.append(training_error)\n",
    "        \n",
    "        if epoch % 1000 == 0:\n",
    "            print(\" Training .....  \\t Error : {0}\".format(training_error))\n",
    "        \n",
    "        # Derivative for gradient descent \n",
    "        l1_derivative = l1_error * sigmoid(l1, deriv=True)\n",
    "        \n",
    "        # Update the weights \n",
    "        syn1 += np.dot(l1.T, l2_derivative)\n",
    "        syn0 += np.dot(l0.T, l1_derivative)\n",
    "    print(\"Error: {0}\".format(training_error))\n",
    "    return accumulated_errors"
   ]
  },
  {
   "cell_type": "code",
   "execution_count": 94,
   "metadata": {},
   "outputs": [
    {
     "name": "stdout",
     "output_type": "stream",
     "text": [
      " Training .....  \t Error : 0.499213393222\n Training .....  \t Error : 0.0409120728628\n Training .....  \t Error : 0.0235376250169\n"
     ]
    },
    {
     "name": "stdout",
     "output_type": "stream",
     "text": [
      " Training .....  \t Error : 0.0178524844778\n Training .....  \t Error : 0.0148506636039\n Training .....  \t Error : 0.0129395174756\n Training .....  \t Error : 0.0115924885053\n Training .....  \t Error : 0.0105801042674\n Training .....  \t Error : 0.00978477597669\n Training .....  \t Error : 0.00913938669199\n"
     ]
    },
    {
     "name": "stdout",
     "output_type": "stream",
     "text": [
      " Training .....  \t Error : 0.00860254633015\n Training .....  \t Error : 0.00814719608001\n Training .....  \t Error : 0.00775481956778\n Training .....  \t Error : 0.0074122717709\n Training .....  \t Error : 0.00710993455011\n Training .....  \t Error : 0.00684059004173\n Training .....  \t Error : 0.00659870394821\n"
     ]
    },
    {
     "name": "stdout",
     "output_type": "stream",
     "text": [
      " Training .....  \t Error : 0.00637995363347\n Training .....  \t Error : 0.00618090810722\n Training .....  \t Error : 0.00599880539121\n Training .....  \t Error : 0.00583139412791\n Training .....  \t Error : 0.00567681864483\n Training .....  \t Error : 0.00553353407249\n Training .....  \t Error : 0.00540024266287\n Training .....  \t Error : 0.0052758453306\n"
     ]
    },
    {
     "name": "stdout",
     "output_type": "stream",
     "text": [
      " Training .....  \t Error : 0.00515940430126\n Training .....  \t Error : 0.0050501139826\n Training .....  \t Error : 0.00494727800436\n Training .....  \t Error : 0.00485029094231\n Training .....  \t Error : 0.00475862363889\n Training .....  \t Error : 0.00467181131411\n"
     ]
    },
    {
     "name": "stdout",
     "output_type": "stream",
     "text": [
      " Training .....  \t Error : 0.00458944386157\n Training .....  \t Error : 0.00451115787104\n Training .....  \t Error : 0.00443663002634\n Training .....  \t Error : 0.00436557160733\n Training .....  \t Error : 0.0042977238843\n Training .....  \t Error : 0.00423285423894\n Training .....  \t Error : 0.00417075288026\n"
     ]
    },
    {
     "name": "stdout",
     "output_type": "stream",
     "text": [
      " Training .....  \t Error : 0.00411123005062\n Training .....  \t Error : 0.00405411363804\n Training .....  \t Error : 0.00399924712663\n Training .....  \t Error : 0.00394648783015\n Training .....  \t Error : 0.00389570536371\n Training .....  \t Error : 0.00384678031657\n Training .....  \t Error : 0.00379960309546\n Training .....  \t Error : 0.00375407291338\n"
     ]
    },
    {
     "name": "stdout",
     "output_type": "stream",
     "text": [
      " Training .....  \t Error : 0.0037100969025\n Training .....  \t Error : 0.00366758933377\n Training .....  \t Error : 0.00362647092831\n Training .....  \t Error : 0.00358666824818\n Training .....  \t Error : 0.00354811315588\n Training .....  \t Error : 0.00351074233362\n"
     ]
    },
    {
     "name": "stdout",
     "output_type": "stream",
     "text": [
      " Training .....  \t Error : 0.00347449685481\n Training .....  \t Error : 0.0034393218011\n Training .....  \t Error : 0.00340516591932\n Training .....  \t Error : 0.00337198131373\n Training .....  \t Error : 0.00333972316905\n Training .....  \t Error : 0.00330834950104\n Training .....  \t Error : 0.0032778209311\n Training .....  \t Error : 0.00324810048257\n"
     ]
    },
    {
     "name": "stdout",
     "output_type": "stream",
     "text": [
      " Training .....  \t Error : 0.00321915339598\n Training .....  \t Error : 0.00319094696143\n Training .....  \t Error : 0.00316345036618\n Training .....  \t Error : 0.00313663455578\n Training .....  \t Error : 0.00311047210747\n Training .....  \t Error : 0.00308493711448\n Training .....  \t Error : 0.00306000508025\n Training .....  \t Error : 0.00303565282143\n"
     ]
    },
    {
     "name": "stdout",
     "output_type": "stream",
     "text": [
      " Training .....  \t Error : 0.00301185837897\n Training .....  \t Error : 0.00298860093642\n Training .....  \t Error : 0.00296586074479\n Training .....  \t Error : 0.00294361905335\n Training .....  \t Error : 0.00292185804581\n Training .....  \t Error : 0.00290056078145\n Training .....  \t Error : 0.00287971114067\n Training .....  \t Error : 0.00285929377466\n"
     ]
    },
    {
     "name": "stdout",
     "output_type": "stream",
     "text": [
      " Training .....  \t Error : 0.00283929405872\n Training .....  \t Error : 0.00281969804908\n Training .....  \t Error : 0.00280049244269\n Training .....  \t Error : 0.00278166454001\n Training .....  \t Error : 0.00276320221031\n Training .....  \t Error : 0.00274509385939\n Training .....  \t Error : 0.00272732839955\n"
     ]
    },
    {
     "name": "stdout",
     "output_type": "stream",
     "text": [
      " Training .....  \t Error : 0.00270989522151\n Training .....  \t Error : 0.0026927841683\n Training .....  \t Error : 0.00267598551079\n Training .....  \t Error : 0.00265948992486\n Training .....  \t Error : 0.00264328847002\n Training .....  \t Error : 0.00262737256939\n Training .....  \t Error : 0.00261173399094\n Training .....  \t Error : 0.00259636482995\n"
     ]
    },
    {
     "name": "stdout",
     "output_type": "stream",
     "text": [
      " Training .....  \t Error : 0.00258125749245\n Training .....  \t Error : 0.00256640467973\n Training .....  \t Error : 0.00255179937382\n Training .....  \t Error : 0.00253743482371\n Training .....  \t Error : 0.00252330453255\n Training .....  \t Error : 0.00250940224542\n Training .....  \t Error : 0.00249572193797\n Training .....  \t Error : 0.00248225780555\n"
     ]
    },
    {
     "name": "stdout",
     "output_type": "stream",
     "text": [
      " Training .....  \t Error : 0.00246900425313\nError: 0.00245596883323\n"
     ]
    }
   ],
   "source": [
    "errors = train(x, y, syn0, syn1, num_epochs)"
   ]
  },
  {
   "cell_type": "code",
   "execution_count": 95,
   "metadata": {},
   "outputs": [],
   "source": [
    "def plot_learning_curve(errors, num_epochs):\n",
    "    plt.plot(range(num_epochs), errors)\n",
    "    plt.xlabel(' Number of Iterations')\n",
    "    plt.ylabel( ' Training error')\n",
    "    plt.title(' Training Curve')\n",
    "    plt.show()"
   ]
  },
  {
   "cell_type": "code",
   "execution_count": 96,
   "metadata": {},
   "outputs": [
    {
     "ename": "ValueError",
     "evalue": "x and y must not be None",
     "traceback": [
      "\u001b[0;31m\u001b[0m",
      "\u001b[0;31mValueError\u001b[0mTraceback (most recent call last)",
      "\u001b[0;32m<ipython-input-96-92e622f7f883>\u001b[0m in \u001b[0;36m<module>\u001b[0;34m()\u001b[0m\n\u001b[0;32m----> 1\u001b[0;31m \u001b[0mplot_learning_curve\u001b[0m\u001b[0;34m(\u001b[0m\u001b[0merrors\u001b[0m\u001b[0;34m,\u001b[0m \u001b[0mnum_epochs\u001b[0m\u001b[0;34m)\u001b[0m\u001b[0;34m\u001b[0m\u001b[0m\n\u001b[0m",
      "\u001b[0;32m<ipython-input-95-de4278045cda>\u001b[0m in \u001b[0;36mplot_learning_curve\u001b[0;34m(errors, num_epochs)\u001b[0m\n\u001b[1;32m      1\u001b[0m \u001b[0;32mdef\u001b[0m \u001b[0mplot_learning_curve\u001b[0m\u001b[0;34m(\u001b[0m\u001b[0merrors\u001b[0m\u001b[0;34m,\u001b[0m \u001b[0mnum_epochs\u001b[0m\u001b[0;34m)\u001b[0m\u001b[0;34m:\u001b[0m\u001b[0;34m\u001b[0m\u001b[0m\n\u001b[0;32m----> 2\u001b[0;31m     \u001b[0mplt\u001b[0m\u001b[0;34m.\u001b[0m\u001b[0mplot\u001b[0m\u001b[0;34m(\u001b[0m\u001b[0mrange\u001b[0m\u001b[0;34m(\u001b[0m\u001b[0mnum_epochs\u001b[0m\u001b[0;34m)\u001b[0m\u001b[0;34m,\u001b[0m \u001b[0merrors\u001b[0m\u001b[0;34m)\u001b[0m\u001b[0;34m\u001b[0m\u001b[0m\n\u001b[0m\u001b[1;32m      3\u001b[0m     \u001b[0mplt\u001b[0m\u001b[0;34m.\u001b[0m\u001b[0mxlabel\u001b[0m\u001b[0;34m(\u001b[0m\u001b[0;34m' Number of Iterations'\u001b[0m\u001b[0;34m)\u001b[0m\u001b[0;34m\u001b[0m\u001b[0m\n\u001b[1;32m      4\u001b[0m     \u001b[0mplt\u001b[0m\u001b[0;34m.\u001b[0m\u001b[0mylabel\u001b[0m\u001b[0;34m(\u001b[0m \u001b[0;34m' Training error'\u001b[0m\u001b[0;34m)\u001b[0m\u001b[0;34m\u001b[0m\u001b[0m\n\u001b[1;32m      5\u001b[0m     \u001b[0mplt\u001b[0m\u001b[0;34m.\u001b[0m\u001b[0mtitle\u001b[0m\u001b[0;34m(\u001b[0m\u001b[0;34m' Training Curve'\u001b[0m\u001b[0;34m)\u001b[0m\u001b[0;34m\u001b[0m\u001b[0m\n",
      "\u001b[0;32m/usr/local/lib/python2.7/dist-packages/matplotlib/pyplot.pyc\u001b[0m in \u001b[0;36mplot\u001b[0;34m(*args, **kwargs)\u001b[0m\n\u001b[1;32m   3316\u001b[0m                       mplDeprecation)\n\u001b[1;32m   3317\u001b[0m     \u001b[0;32mtry\u001b[0m\u001b[0;34m:\u001b[0m\u001b[0;34m\u001b[0m\u001b[0m\n\u001b[0;32m-> 3318\u001b[0;31m         \u001b[0mret\u001b[0m \u001b[0;34m=\u001b[0m \u001b[0max\u001b[0m\u001b[0;34m.\u001b[0m\u001b[0mplot\u001b[0m\u001b[0;34m(\u001b[0m\u001b[0;34m*\u001b[0m\u001b[0margs\u001b[0m\u001b[0;34m,\u001b[0m \u001b[0;34m**\u001b[0m\u001b[0mkwargs\u001b[0m\u001b[0;34m)\u001b[0m\u001b[0;34m\u001b[0m\u001b[0m\n\u001b[0m\u001b[1;32m   3319\u001b[0m     \u001b[0;32mfinally\u001b[0m\u001b[0;34m:\u001b[0m\u001b[0;34m\u001b[0m\u001b[0m\n\u001b[1;32m   3320\u001b[0m         \u001b[0max\u001b[0m\u001b[0;34m.\u001b[0m\u001b[0m_hold\u001b[0m \u001b[0;34m=\u001b[0m \u001b[0mwashold\u001b[0m\u001b[0;34m\u001b[0m\u001b[0m\n",
      "\u001b[0;32m/usr/local/lib/python2.7/dist-packages/matplotlib/__init__.pyc\u001b[0m in \u001b[0;36minner\u001b[0;34m(ax, *args, **kwargs)\u001b[0m\n\u001b[1;32m   1890\u001b[0m                     warnings.warn(msg % (label_namer, func.__name__),\n\u001b[1;32m   1891\u001b[0m                                   RuntimeWarning, stacklevel=2)\n\u001b[0;32m-> 1892\u001b[0;31m             \u001b[0;32mreturn\u001b[0m \u001b[0mfunc\u001b[0m\u001b[0;34m(\u001b[0m\u001b[0max\u001b[0m\u001b[0;34m,\u001b[0m \u001b[0;34m*\u001b[0m\u001b[0margs\u001b[0m\u001b[0;34m,\u001b[0m \u001b[0;34m**\u001b[0m\u001b[0mkwargs\u001b[0m\u001b[0;34m)\u001b[0m\u001b[0;34m\u001b[0m\u001b[0m\n\u001b[0m\u001b[1;32m   1893\u001b[0m         \u001b[0mpre_doc\u001b[0m \u001b[0;34m=\u001b[0m \u001b[0minner\u001b[0m\u001b[0;34m.\u001b[0m\u001b[0m__doc__\u001b[0m\u001b[0;34m\u001b[0m\u001b[0m\n\u001b[1;32m   1894\u001b[0m         \u001b[0;32mif\u001b[0m \u001b[0mpre_doc\u001b[0m \u001b[0;32mis\u001b[0m \u001b[0mNone\u001b[0m\u001b[0;34m:\u001b[0m\u001b[0;34m\u001b[0m\u001b[0m\n",
      "\u001b[0;32m/usr/local/lib/python2.7/dist-packages/matplotlib/axes/_axes.pyc\u001b[0m in \u001b[0;36mplot\u001b[0;34m(self, *args, **kwargs)\u001b[0m\n\u001b[1;32m   1404\u001b[0m         \u001b[0mkwargs\u001b[0m \u001b[0;34m=\u001b[0m \u001b[0mcbook\u001b[0m\u001b[0;34m.\u001b[0m\u001b[0mnormalize_kwargs\u001b[0m\u001b[0;34m(\u001b[0m\u001b[0mkwargs\u001b[0m\u001b[0;34m,\u001b[0m \u001b[0m_alias_map\u001b[0m\u001b[0;34m)\u001b[0m\u001b[0;34m\u001b[0m\u001b[0m\n\u001b[1;32m   1405\u001b[0m \u001b[0;34m\u001b[0m\u001b[0m\n\u001b[0;32m-> 1406\u001b[0;31m         \u001b[0;32mfor\u001b[0m \u001b[0mline\u001b[0m \u001b[0;32min\u001b[0m \u001b[0mself\u001b[0m\u001b[0;34m.\u001b[0m\u001b[0m_get_lines\u001b[0m\u001b[0;34m(\u001b[0m\u001b[0;34m*\u001b[0m\u001b[0margs\u001b[0m\u001b[0;34m,\u001b[0m \u001b[0;34m**\u001b[0m\u001b[0mkwargs\u001b[0m\u001b[0;34m)\u001b[0m\u001b[0;34m:\u001b[0m\u001b[0;34m\u001b[0m\u001b[0m\n\u001b[0m\u001b[1;32m   1407\u001b[0m             \u001b[0mself\u001b[0m\u001b[0;34m.\u001b[0m\u001b[0madd_line\u001b[0m\u001b[0;34m(\u001b[0m\u001b[0mline\u001b[0m\u001b[0;34m)\u001b[0m\u001b[0;34m\u001b[0m\u001b[0m\n\u001b[1;32m   1408\u001b[0m             \u001b[0mlines\u001b[0m\u001b[0;34m.\u001b[0m\u001b[0mappend\u001b[0m\u001b[0;34m(\u001b[0m\u001b[0mline\u001b[0m\u001b[0;34m)\u001b[0m\u001b[0;34m\u001b[0m\u001b[0m\n",
      "\u001b[0;32m/usr/local/lib/python2.7/dist-packages/matplotlib/axes/_base.pyc\u001b[0m in \u001b[0;36m_grab_next_args\u001b[0;34m(self, *args, **kwargs)\u001b[0m\n\u001b[1;32m    405\u001b[0m                 \u001b[0;32mreturn\u001b[0m\u001b[0;34m\u001b[0m\u001b[0m\n\u001b[1;32m    406\u001b[0m             \u001b[0;32mif\u001b[0m \u001b[0mlen\u001b[0m\u001b[0;34m(\u001b[0m\u001b[0mremaining\u001b[0m\u001b[0;34m)\u001b[0m \u001b[0;34m<=\u001b[0m \u001b[0;36m3\u001b[0m\u001b[0;34m:\u001b[0m\u001b[0;34m\u001b[0m\u001b[0m\n\u001b[0;32m--> 407\u001b[0;31m                 \u001b[0;32mfor\u001b[0m \u001b[0mseg\u001b[0m \u001b[0;32min\u001b[0m \u001b[0mself\u001b[0m\u001b[0;34m.\u001b[0m\u001b[0m_plot_args\u001b[0m\u001b[0;34m(\u001b[0m\u001b[0mremaining\u001b[0m\u001b[0;34m,\u001b[0m \u001b[0mkwargs\u001b[0m\u001b[0;34m)\u001b[0m\u001b[0;34m:\u001b[0m\u001b[0;34m\u001b[0m\u001b[0m\n\u001b[0m\u001b[1;32m    408\u001b[0m                     \u001b[0;32myield\u001b[0m \u001b[0mseg\u001b[0m\u001b[0;34m\u001b[0m\u001b[0m\n\u001b[1;32m    409\u001b[0m                 \u001b[0;32mreturn\u001b[0m\u001b[0;34m\u001b[0m\u001b[0m\n",
      "\u001b[0;32m/usr/local/lib/python2.7/dist-packages/matplotlib/axes/_base.pyc\u001b[0m in \u001b[0;36m_plot_args\u001b[0;34m(self, tup, kwargs)\u001b[0m\n\u001b[1;32m    366\u001b[0m         \u001b[0;31m# downstream.\u001b[0m\u001b[0;34m\u001b[0m\u001b[0;34m\u001b[0m\u001b[0m\n\u001b[1;32m    367\u001b[0m         \u001b[0;32mif\u001b[0m \u001b[0many\u001b[0m\u001b[0;34m(\u001b[0m\u001b[0mv\u001b[0m \u001b[0;32mis\u001b[0m \u001b[0mNone\u001b[0m \u001b[0;32mfor\u001b[0m \u001b[0mv\u001b[0m \u001b[0;32min\u001b[0m \u001b[0mtup\u001b[0m\u001b[0;34m)\u001b[0m\u001b[0;34m:\u001b[0m\u001b[0;34m\u001b[0m\u001b[0m\n\u001b[0;32m--> 368\u001b[0;31m             \u001b[0;32mraise\u001b[0m \u001b[0mValueError\u001b[0m\u001b[0;34m(\u001b[0m\u001b[0;34m\"x and y must not be None\"\u001b[0m\u001b[0;34m)\u001b[0m\u001b[0;34m\u001b[0m\u001b[0m\n\u001b[0m\u001b[1;32m    369\u001b[0m \u001b[0;34m\u001b[0m\u001b[0m\n\u001b[1;32m    370\u001b[0m         \u001b[0mkw\u001b[0m \u001b[0;34m=\u001b[0m \u001b[0;34m{\u001b[0m\u001b[0;34m}\u001b[0m\u001b[0;34m\u001b[0m\u001b[0m\n",
      "\u001b[0;31mValueError\u001b[0m: x and y must not be None"
     ],
     "output_type": "error"
    }
   ],
   "source": [
    "plot_learning_curve(errors, num_epochs)"
   ]
  },
  {
   "cell_type": "code",
   "execution_count": null,
   "metadata": {},
   "outputs": [],
   "source": [
    ""
   ]
  }
 ],
 "metadata": {
  "kernelspec": {
   "display_name": "Python 2",
   "language": "python",
   "name": "python2"
  },
  "language_info": {
   "codemirror_mode": {
    "name": "ipython",
    "version": 2.0
   },
   "file_extension": ".py",
   "mimetype": "text/x-python",
   "name": "python",
   "nbconvert_exporter": "python",
   "pygments_lexer": "ipython2",
   "version": "2.7.6"
  }
 },
 "nbformat": 4,
 "nbformat_minor": 0
}