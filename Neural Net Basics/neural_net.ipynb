{
 "cells": [
  {
   "cell_type": "code",
   "execution_count": 1,
   "metadata": {
    "collapsed": true
   },
   "outputs": [],
   "source": [
    "import numpy as np"
   ]
  },
  {
   "cell_type": "code",
   "execution_count": 2,
   "metadata": {},
   "outputs": [],
   "source": [
    "x = np.array([[0, 0, 1],\n",
    "             [0, 1, 1],\n",
    "             [1, 0, 1],\n",
    "             [1, 1, 1]])\n",
    "\n",
    "y = np.array([[0], [1], [1], [0]])"
   ]
  },
  {
   "cell_type": "code",
   "execution_count": 23,
   "metadata": {},
   "outputs": [
    {
     "name": "stdout",
     "output_type": "stream",
     "text": [
      "[[0 0 1]\n [0 1 1]\n [1 0 1]\n [1 1 1]]\n[[0]\n [1]\n [1]\n [0]]\n"
     ]
    }
   ],
   "source": [
    "print(x)\n",
    "print(y)"
   ]
  },
  {
   "cell_type": "code",
   "execution_count": 5,
   "metadata": {},
   "outputs": [],
   "source": [
    "# Model definition\n",
    "\n",
    "num_epochs = 100000\n",
    "\n",
    "\n",
    "# 5 neurons in the hidden layer\n",
    "syn0 = 2 * np.random.random((3, 5)) - 1\n",
    "syn1 = 2 * np.random.random((5, 1)) - 1"
   ]
  },
  {
   "cell_type": "code",
   "execution_count": 21,
   "metadata": {},
   "outputs": [
    {
     "name": "stdout",
     "output_type": "stream",
     "text": [
      "[[-0.86697401  0.74500188 -0.53588549  0.84822396 -0.63203471]\n [ 0.6706884  -0.43962233  0.77255021  0.71362277 -0.35390137]\n [ 0.11254249 -0.2024186   0.46936584  0.79775742  0.29747511]]\n"
     ]
    }
   ],
   "source": [
    "print(syn0)"
   ]
  },
  {
   "cell_type": "code",
   "execution_count": 22,
   "metadata": {},
   "outputs": [
    {
     "name": "stdout",
     "output_type": "stream",
     "text": [
      "[[-0.49106019]\n [ 0.41245528]\n [-0.72566368]\n [ 0.80987308]\n [-0.8901051 ]]\n"
     ]
    }
   ],
   "source": [
    "print(syn1)"
   ]
  },
  {
   "cell_type": "code",
   "execution_count": 24,
   "metadata": {},
   "outputs": [],
   "source": [
    "def sigmoid(x, deriv = False):\n",
    "    if deriv:\n",
    "        return x * (1 - x)\n",
    "        \n",
    "    x = 1 / (1 + np.exp(-x))\n",
    "\n",
    "    return x"
   ]
  },
  {
   "cell_type": "code",
   "execution_count": 25,
   "metadata": {},
   "outputs": [
    {
     "data": {
      "text/plain": [
       "-20"
      ]
     },
     "execution_count": 25,
     "metadata": {},
     "output_type": "execute_result"
    }
   ],
   "source": [
    "sigmoid(5)\n",
    "sigmoid(5, deriv=True)"
   ]
  },
  {
   "cell_type": "code",
   "execution_count": null,
   "metadata": {},
   "outputs": [],
   "source": [
    "# Train Function\n",
    "def train(x, y, syn0, syn1, num_epochs):\n",
    "    for epoch in num_epochs:\n",
    "        l0 = x\n",
    "        l1 = sigmoid(np.dot(l0, syn0))\n",
    "        l2 = sigmoid(np.dot(l1, syn1))\n",
    "        \n",
    "        #  Error at the output layer\n",
    "        l2_error = y - l2\n",
    "        \n",
    "        # Derivative of the error for Gradient Descent\n",
    "        l2_derivative = l2_error * sigmoid(l2, deriv=True)\n",
    "        \n",
    "        # Contribution of l2 to l1\n",
    "        l1_error = l2_derivative.dot(syn1.T)\n",
    "        \n",
    "        if j % 1000 == 0:\n",
    "            print(\" The training error is {0} and the accuracy is {1}\".format(np.mean(abs())))\n",
    "        \n",
    "        # Derivative for gradient descent \n",
    "        l1_derivative = l1_error * sigmoid(l1, deriv=True)\n",
    "        \n",
    "        # Update the weights \n",
    "        syn1 += np.dot(l1.T, l2_derivative)\n",
    "        syn0 += np.dot(l0.T, l1_derivative)\n",
    "        \n",
    "        "
   ]
  },
  {
   "cell_type": "code",
   "execution_count": null,
   "metadata": {},
   "outputs": [],
   "source": [
    ""
   ]
  }
 ],
 "metadata": {
  "kernelspec": {
   "display_name": "Python 2",
   "language": "python",
   "name": "python2"
  },
  "language_info": {
   "codemirror_mode": {
    "name": "ipython",
    "version": 2.0
   },
   "file_extension": ".py",
   "mimetype": "text/x-python",
   "name": "python",
   "nbconvert_exporter": "python",
   "pygments_lexer": "ipython2",
   "version": "2.7.6"
  }
 },
 "nbformat": 4,
 "nbformat_minor": 0
}